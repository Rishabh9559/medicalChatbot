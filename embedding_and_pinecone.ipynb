{
 "cells": [
  {
   "cell_type": "code",
   "execution_count": 2,
   "id": "a37904d3",
   "metadata": {},
   "outputs": [],
   "source": [
    "import dotenv\n",
    "import os"
   ]
  },
  {
   "cell_type": "code",
   "execution_count": 3,
   "id": "154a52fc",
   "metadata": {},
   "outputs": [],
   "source": [
    "dotenv.load_dotenv()\n",
    "\n",
    "#gemini api key\n",
    "GEMINI_API_KEY = os.getenv(\"GEMINI_API_KEY\") \n",
    "\n",
    "#pinecone api key\n",
    "PINECONE_API_KEY = os.getenv(\"PINECONE_API_KEY\") "
   ]
  },
  {
   "cell_type": "code",
   "execution_count": 35,
   "id": "a49a1e9b",
   "metadata": {},
   "outputs": [
    {
     "name": "stdout",
     "output_type": "stream",
     "text": [
      "   id                                      combined_text      source  \\\n",
      "0   1  Question: Who is at risk for Lymphocytic Chori...  medDataset   \n",
      "1   2  Question: What are the symptoms of Lymphocytic...  medDataset   \n",
      "2   3  Question: Who is at risk for Lymphocytic Chori...  medDataset   \n",
      "3   4  Question: How to diagnose Lymphocytic Choriome...  medDataset   \n",
      "4   5  Question: What are the treatments for Lymphocy...  medDataset   \n",
      "\n",
      "                    category  \\\n",
      "0            viral infection   \n",
      "1            viral infection   \n",
      "2            viral infection   \n",
      "3  viral infection diagnosis   \n",
      "4            viral infection   \n",
      "\n",
      "                                            entities  \\\n",
      "0  ['lymphocytic choriomeningitis', 'lymphocytic ...   \n",
      "1  ['Lymphocytic Choriomeningitis Virus', 'Lympho...   \n",
      "2  ['Lymphocytic Choriomeningitis', 'Lymphocytic ...   \n",
      "3  ['lymphocytic choriomeningitis', 'lymphocytic ...   \n",
      "4  ['Lymphocytic Choriomeningitis', 'LCMV', 'asep...   \n",
      "\n",
      "                                            keywords safety_level  char_count  \n",
      "0  ['LCMV', 'lymphocytic choriomeningitis', 'tran...       medium         466  \n",
      "1  ['LCMV', 'symptoms', 'neurological', 'febrile'...         high        2468  \n",
      "2  ['LCMV', 'risk factors', 'transmission', 'rode...       medium         690  \n",
      "3  ['lcm', 'diagnosis', 'leukopenia', 'thrombocyt...       medium         648  \n",
      "4  ['LCM', 'LCMV', 'treatment', 'hospitalization'...       medium         446  \n"
     ]
    }
   ],
   "source": [
    "import pandas as pd\n",
    "import json\n",
    "# documnet load\n",
    "try:\n",
    "    df = pd.read_json('data.json')\n",
    "except ValueError:\n",
    "    \n",
    "    with open('data.json', 'r') as f:\n",
    "        data = [json.loads(line) for line in f]\n",
    "    df = pd.DataFrame(data)\n",
    "\n",
    "\n",
    "\n",
    "print(df.head())"
   ]
  },
  {
   "cell_type": "code",
   "execution_count": 23,
   "id": "2baef4a9",
   "metadata": {},
   "outputs": [],
   "source": [
    "import os\n",
    "import json\n",
    "import pandas as pd\n",
    "import google.generativeai as genai\n",
    "from tqdm.auto import tqdm\n",
    "from pinecone import ServerlessSpec\n",
    "from pinecone import Pinecone as pc\n"
   ]
  },
  {
   "cell_type": "code",
   "execution_count": 15,
   "id": "35b3c387",
   "metadata": {},
   "outputs": [],
   "source": [
    "genai.configure(api_key=GEMINI_API_KEY)"
   ]
  },
  {
   "cell_type": "code",
   "execution_count": 36,
   "id": "bdb90b2f",
   "metadata": {},
   "outputs": [],
   "source": [
    "EMBEDDING_MODEL = \"models/gemini-embedding-001\"  \n",
    "PINECONE_INDEX_NAME = \"medical-rag-index\"    \n",
    "DATA_FILE_PATH = \"data.json\" \n",
    "\n",
    "embedding_dimension = 3072 #gemini embedding"
   ]
  },
  {
   "cell_type": "code",
   "execution_count": 37,
   "id": "add57f17",
   "metadata": {},
   "outputs": [
    {
     "name": "stdout",
     "output_type": "stream",
     "text": [
      "Loading data from data.json...\n",
      "Successfully loaded 9790 records.\n"
     ]
    }
   ],
   "source": [
    "print(f\"Loading data from {DATA_FILE_PATH}...\")\n",
    "try:\n",
    "    df = pd.read_json(DATA_FILE_PATH)\n",
    "    print(f\"Successfully loaded {len(df)} records.\")\n",
    "except Exception as e:\n",
    "    print(f\"Error loading JSON file: {e}\")\n",
    "    exit()"
   ]
  },
  {
   "cell_type": "code",
   "execution_count": 38,
   "id": "fb9e9abe",
   "metadata": {},
   "outputs": [
    {
     "name": "stdout",
     "output_type": "stream",
     "text": [
      "Initializing Pinecone...\n"
     ]
    }
   ],
   "source": [
    "print(\"Initializing Pinecone...\")\n",
    "pine_client= pc(\n",
    "    api_key = os.getenv(\"PINECONE_API_KEY\"), \n",
    "    )"
   ]
  },
  {
   "cell_type": "code",
   "execution_count": 39,
   "id": "dfa1ba09",
   "metadata": {},
   "outputs": [
    {
     "name": "stdout",
     "output_type": "stream",
     "text": [
      "Creating index\n",
      "{'deletion_protection': 'disabled',\n",
      " 'dimension': 3072,\n",
      " 'host': 'medical-rag-index-3iyzw21.svc.aped-4627-b74a.pinecone.io',\n",
      " 'metric': 'cosine',\n",
      " 'name': 'medical-rag-index',\n",
      " 'spec': {'serverless': {'cloud': 'aws', 'region': 'us-east-1'}},\n",
      " 'status': {'ready': True, 'state': 'Ready'},\n",
      " 'tags': None,\n",
      " 'vector_type': 'dense'}\n"
     ]
    }
   ],
   "source": [
    "if PINECONE_INDEX_NAME not in pine_client.list_indexes().names():\n",
    "\n",
    "    print(\"Creating index\")\n",
    "    pine_client.create_index(name=PINECONE_INDEX_NAME,\n",
    "\n",
    "                      metric=\"cosine\",\n",
    "                      dimension=3072,\n",
    "                      spec=ServerlessSpec(\n",
    "                        cloud=\"aws\",\n",
    "                        region=\"us-east-1\"\n",
    "                        ),\n",
    "    )\n",
    "    print(pine_client.describe_index(PINECONE_INDEX_NAME))"
   ]
  },
  {
   "cell_type": "code",
   "execution_count": 40,
   "id": "c08bf6d3",
   "metadata": {},
   "outputs": [
    {
     "name": "stdout",
     "output_type": "stream",
     "text": [
      "{'dimension': 3072,\n",
      " 'index_fullness': 0.0,\n",
      " 'metric': 'cosine',\n",
      " 'namespaces': {},\n",
      " 'total_vector_count': 0,\n",
      " 'vector_type': 'dense'}\n"
     ]
    }
   ],
   "source": [
    "index = pine_client.Index(PINECONE_INDEX_NAME)\n",
    "print(index.describe_index_stats())"
   ]
  },
  {
   "cell_type": "code",
   "execution_count": 41,
   "id": "53a29559",
   "metadata": {},
   "outputs": [
    {
     "name": "stdout",
     "output_type": "stream",
     "text": [
      "Starting to generate embeddings and upsert to Pinecone in batches of 100...\n"
     ]
    }
   ],
   "source": [
    "BATCH_SIZE = 100\n",
    "print(f\"Starting to generate embeddings and upsert to Pinecone in batches of {BATCH_SIZE}...\")"
   ]
  },
  {
   "cell_type": "code",
   "execution_count": 42,
   "id": "058275a5",
   "metadata": {},
   "outputs": [
    {
     "data": {
      "application/vnd.jupyter.widget-view+json": {
       "model_id": "dbd0c6fa4bdd405d8c10c43a40de57f8",
       "version_major": 2,
       "version_minor": 0
      },
      "text/plain": [
       "  0%|          | 0/98 [00:00<?, ?it/s]"
      ]
     },
     "metadata": {},
     "output_type": "display_data"
    },
    {
     "name": "stdout",
     "output_type": "stream",
     "text": [
      "\n",
      "Upsert process completed.\n"
     ]
    }
   ],
   "source": [
    "for i in tqdm(range(0, len(df), BATCH_SIZE)):\n",
    "    batch_df = df.iloc[i:i + BATCH_SIZE]\n",
    "    \n",
    "    # Get the text content to embed\n",
    "    texts_to_embed = batch_df[\"combined_text\"].tolist()\n",
    "    \n",
    "\n",
    "    result = genai.embed_content(\n",
    "        model=EMBEDDING_MODEL,\n",
    "        content=texts_to_embed,\n",
    "        task_type=\"RETRIEVAL_DOCUMENT\"\n",
    "    )\n",
    "    embeddings = result['embedding']\n",
    "\n",
    "    # Prepare data for Pinecone upsert\n",
    "    vectors_to_upsert = []\n",
    "    for idx, row in batch_df.iterrows():\n",
    "        # Pinecone requires a string ID\n",
    "        vector_id = str(row[\"id\"])\n",
    "        \n",
    "        # Get the corresponding embedding\n",
    "        embedding_vector = embeddings[batch_df.index.get_loc(idx)]\n",
    "        \n",
    "\n",
    "        metadata = {\n",
    "            \"text\": row.get(\"combined_text\", \"\"),\n",
    "            \"source\": row.get(\"source\", \"\"),\n",
    "            \"category\": row.get(\"category\", \"\"),\n",
    "            \"entities\": row.get(\"entities\", \"[]\"),\n",
    "            \"keywords\": row.get(\"keywords\", \"[]\"),\n",
    "            \"safety_level\": row.get(\"safety_level\", \"medium\"),\n",
    "            \"char_count\": row.get(\"char_count\", 0)\n",
    "        }\n",
    "        \n",
    "        vectors_to_upsert.append({\n",
    "            \"id\": vector_id,\n",
    "            \"values\": embedding_vector,\n",
    "            \"metadata\": metadata\n",
    "        })\n",
    "        \n",
    "    # 3. Upsert the batch to Pinecone\n",
    "    index.upsert(vectors=vectors_to_upsert)\n",
    "\n",
    "print(\"\\nUpsert process completed.\")"
   ]
  },
  {
   "cell_type": "code",
   "execution_count": 43,
   "id": "24a2b704",
   "metadata": {},
   "outputs": [
    {
     "name": "stdout",
     "output_type": "stream",
     "text": [
      "{'dimension': 3072,\n",
      " 'index_fullness': 0.0,\n",
      " 'metric': 'cosine',\n",
      " 'namespaces': {'': {'vector_count': 9790}},\n",
      " 'total_vector_count': 9790,\n",
      " 'vector_type': 'dense'}\n"
     ]
    }
   ],
   "source": [
    "print(index.describe_index_stats())"
   ]
  },
  {
   "cell_type": "code",
   "execution_count": null,
   "id": "82a6bd87",
   "metadata": {},
   "outputs": [],
   "source": []
  }
 ],
 "metadata": {
  "kernelspec": {
   "display_name": "Python 3",
   "language": "python",
   "name": "python3"
  },
  "language_info": {
   "codemirror_mode": {
    "name": "ipython",
    "version": 3
   },
   "file_extension": ".py",
   "mimetype": "text/x-python",
   "name": "python",
   "nbconvert_exporter": "python",
   "pygments_lexer": "ipython3",
   "version": "3.11.4"
  }
 },
 "nbformat": 4,
 "nbformat_minor": 5
}
