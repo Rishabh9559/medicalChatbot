{
 "cells": [
  {
   "cell_type": "code",
   "execution_count": 21,
   "id": "98da5440",
   "metadata": {},
   "outputs": [],
   "source": [
    "import os\n",
    "import google.generativeai as genai\n",
    "from pinecone import Pinecone as pc\n",
    "import dotenv"
   ]
  },
  {
   "cell_type": "code",
   "execution_count": 22,
   "id": "4b9b4f7a",
   "metadata": {},
   "outputs": [],
   "source": [
    "dotenv.load_dotenv()\n",
    "\n",
    "#gemini api key\n",
    "GEMINI_API_KEY = os.getenv(\"GEMINI_API_KEY\") \n",
    "\n",
    "#pinecone api key\n",
    "PINECONE_API_KEY = os.getenv(\"PINECONE_API_KEY\") "
   ]
  },
  {
   "cell_type": "code",
   "execution_count": 23,
   "id": "f0e74b1b",
   "metadata": {},
   "outputs": [],
   "source": [
    "genai.configure(api_key=GEMINI_API_KEY)"
   ]
  },
  {
   "cell_type": "code",
   "execution_count": 4,
   "id": "e35bcd5e",
   "metadata": {},
   "outputs": [],
   "source": [
    "EMBEDDING_MODEL = \"models/gemini-embedding-001\"  \n",
    "PINECONE_INDEX_NAME = \"medical-rag-index\" "
   ]
  },
  {
   "cell_type": "code",
   "execution_count": 5,
   "id": "34ddc524",
   "metadata": {},
   "outputs": [
    {
     "name": "stdout",
     "output_type": "stream",
     "text": [
      "Initializing Pinecone...\n"
     ]
    }
   ],
   "source": [
    "print(\"Initializing Pinecone...\")\n",
    "pine_client= pc(\n",
    "    api_key = os.getenv(\"PINECONE_API_KEY\"), \n",
    "    )"
   ]
  },
  {
   "cell_type": "code",
   "execution_count": 6,
   "id": "c9caaf3c",
   "metadata": {},
   "outputs": [
    {
     "name": "stdout",
     "output_type": "stream",
     "text": [
      "\n",
      "--- Pinecone Index Stats ---\n",
      "{'dimension': 3072,\n",
      " 'index_fullness': 0.0,\n",
      " 'metric': 'cosine',\n",
      " 'namespaces': {'': {'vector_count': 9790}},\n",
      " 'total_vector_count': 9790,\n",
      " 'vector_type': 'dense'}\n",
      "--------------------------\n",
      "\n"
     ]
    }
   ],
   "source": [
    "# Connect to your existing index\n",
    "try:\n",
    "    index = pine_client.Index(PINECONE_INDEX_NAME)\n",
    "    print(\"\\n--- Pinecone Index Stats ---\")\n",
    "    print(index.describe_index_stats())\n",
    "    print(\"--------------------------\\n\")\n",
    "except Exception as e:\n",
    "    print(f\"Error connecting to index '{PINECONE_INDEX_NAME}'. Please ensure it exists.\")\n",
    "    print(e)\n",
    "    exit()"
   ]
  },
  {
   "cell_type": "code",
   "execution_count": 7,
   "id": "aa88d712",
   "metadata": {},
   "outputs": [],
   "source": [
    "def retrieve_context(user_query, top_k=3):\n",
    "\n",
    "    print(f\"Received query: '{user_query}'\")\n",
    "    \n",
    "    # 1. Embed the User's Query\n",
    "  \n",
    "    print(\"Embedding user query...\")\n",
    "    query_embedding = genai.embed_content(\n",
    "        model=EMBEDDING_MODEL,\n",
    "        content=user_query,\n",
    "        task_type=\"RETRIEVAL_QUERY\" \n",
    "    )['embedding']\n",
    "    \n",
    "    print(f\"Query embedded successfully. Vector dimension: {len(query_embedding)}\")\n",
    "\n",
    "    # 2. Query Pinecone\n",
    "    print(f\"Querying Pinecone index for top {top_k} results...\")\n",
    "    query_results = index.query(\n",
    "        vector=query_embedding,\n",
    "        top_k=top_k,\n",
    "        include_metadata=True\n",
    "    )\n",
    "    \n",
    "    # 3. Process and Return Results\n",
    "    print(\"Processing results...\")\n",
    "    retrieved_context = []\n",
    "    for match in query_results['matches']:\n",
    "        context_text = match['metadata'].get('text', 'No text found in metadata.')\n",
    "        retrieved_context.append(context_text)\n",
    "        \n",
    "     \n",
    "        print(f\"  - Match ID: {match['id']}, Score: {match['score']:.4f}\")\n",
    "      \n",
    "        \n",
    "    return retrieved_context"
   ]
  },
  {
   "cell_type": "code",
   "execution_count": null,
   "id": "c80c7ee6",
   "metadata": {},
   "outputs": [
    {
     "name": "stdout",
     "output_type": "stream",
     "text": [
      "Received query: 'on my face a lots of red pimple, tell me how danger is ?'\n",
      "Embedding user query...\n",
      "Query embedded successfully. Vector dimension: 3072\n",
      "Querying Pinecone index for top 5 results...\n",
      "Processing results...\n",
      "  - Match ID: 5044, Score: 0.7193\n",
      "  - Match ID: 5570, Score: 0.7138\n",
      "  - Match ID: 4993, Score: 0.6845\n",
      "  - Match ID: 5562, Score: 0.6839\n",
      "  - Match ID: 5391, Score: 0.6688\n",
      "['Question: What is (are) Rosacea ?\\nAnswer: Rosacea is a long-term disease that affects your skin and sometimes your eyes. It causes redness and pimples. Rosacea is most common in women and people with fair skin. It most often affects middle-aged and older adults. In most cases, rosacea only affects the face. Symptoms can include - Frequent redness of the face, or flushing - Small, red lines under the skin - Acne - A swollen nose - Thick skin, usually on the forehead, chin, and cheeks - Red, dry, itchy eyes and sometimes vision problems No one knows what causes rosacea. You may be more likely to have it if you blush a lot or if rosacea runs in your family. Rosacea is not dangerous. There is no cure, but treatments can help. They include medicines and sometimes surgery. NIH: National Institute of Arthritis and Musculoskeletal and Skin Diseases', \"Question: What is (are) Acne ?\\nAnswer: Acne is a common skin disease that causes pimples. Pimples form when hair follicles under your skin clog up. Most pimples form on the face, neck, back, chest, and shoulders. Anyone can get acne, but it is common in teenagers and young adults. It is not serious, but it can cause scars. No one knows exactly what causes acne. Hormone changes, such as those during the teenage years and pregnancy, probably play a role. There are many myths about what causes acne. Chocolate and greasy foods are often blamed, but there is little evidence that foods have much effect on acne in most people. Another common myth is that dirty skin causes acne; however, blackheads and pimples are not caused by dirt. Stress doesn't cause acne, but stress can make it worse. If you have acne - Clean your skin gently - Try not to touch your skin - Avoid the sun Treatments for acne include medicines and creams. NIH: National Institute of Arthritis and Musculoskeletal and Skin Diseases\", 'Question: What is (are) Staphylococcal Infections ?\\nAnswer: Staph is short for Staphylococcus, a type of bacteria. There are over 30 types, but Staphylococcus aureus causes most staph infections (pronounced \"staff infections\"), including - Skin infections - Pneumonia - Food poisoning - Toxic shock syndrome - Blood poisoning (bacteremia) Skin infections are the most common. They can look like pimples or boils. They may be red, swollen and painful, and sometimes have pus or other drainage. They can turn into impetigo, which turns into a crust on the skin, or cellulitis, a swollen, red area of skin that feels hot. Anyone can get a staph skin infection. You are more likely to get one if you have a cut or scratch, or have contact with a person or surface that has staph bacteria. The best way to prevent staph is to keep hands and wounds clean. Most staph skin infections are easily treated with antibiotics or by draining the infection. Some staph bacteria such as MRSA (methicillin-resistant Staphylococcus aureus) are resistant to certain antibiotics, making infections harder to treat.', 'Question: What is (are) Hives ?\\nAnswer: Hives are red and sometimes itchy bumps on your skin. An allergic reaction to a drug or food usually causes them. Allergic reactions cause your body to release chemicals that can make your skin swell up in hives. People who have other allergies are more likely to get hives than other people. Other causes include infections and stress. Hives are very common. They usually go away on their own, but if you have a serious case, you might need medicine or a shot. In rare cases, hives can cause a dangerous swelling in your airways, making it hard to breathe - which is a medical emergency.', \"Question: What is (are) Rashes ?\\nAnswer: A rash is an area of irritated or swollen skin. Many rashes are itchy, red, painful, and irritated. Some rashes can also lead to blisters or patches of raw skin. Rashes are a symptom of many different medical problems. Other causes include irritating substances and allergies. Certain genes can make people more likely to get rashes. Contact dermatitis is a common type of rash. It causes redness, itching, and sometimes small bumps. You get the rash where you have touched an irritant, such as a chemical, or something you are allergic to, like poison ivy. Some rashes develop right away. Others form over several days. Although most rashes clear up fairly quickly, others are long-lasting and need long-term treatment. Because rashes can be caused by many different things, it's important to figure out what kind you have before you treat it. If it is a bad rash, if it does not go away, or if you have other symptoms, you should see your health care provider. Treatments may include moisturizers, lotions, baths, cortisone creams that relieve swelling, and antihistamines, which relieve itching.\"]\n"
     ]
    }
   ],
   "source": [
    "if __name__ == \"__main__\":\n",
    "    \n",
    "    my_question = \"on my face a lots of red pimple, tell me how danger is ?\"\n",
    "    \n",
    "    # Retrieve the context\n",
    "    context = retrieve_context(my_question, top_k=5)\n",
    "   \n",
    "    print(\"\\n==================== RETRIEVED CONTEXT ====================\\n\")\n",
    "    if context:\n",
    "      \n",
    "        print(\"\\n---\\n\".join(context))\n",
    "    else:\n",
    "        print(\"No relevant context was found in Pinecone.\")\n",
    "    print(\"\\n===========================================================\")"
   ]
  }
 ],
 "metadata": {
  "kernelspec": {
   "display_name": "Python 3",
   "language": "python",
   "name": "python3"
  },
  "language_info": {
   "codemirror_mode": {
    "name": "ipython",
    "version": 3
   },
   "file_extension": ".py",
   "mimetype": "text/x-python",
   "name": "python",
   "nbconvert_exporter": "python",
   "pygments_lexer": "ipython3",
   "version": "3.11.4"
  }
 },
 "nbformat": 4,
 "nbformat_minor": 5
}
